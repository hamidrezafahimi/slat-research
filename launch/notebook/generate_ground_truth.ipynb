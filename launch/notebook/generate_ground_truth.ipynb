{
  "cells": [
    {
      "cell_type": "code",
      "execution_count": null,
      "metadata": {
        "colab": {
          "base_uri": "https://localhost:8080/"
        },
        "id": "0jY7ggRLWJDV",
        "outputId": "f72ea009-23ba-4a52-a15d-40d9bf34abfd"
      },
      "outputs": [],
      "source": [
        "try:\n",
        "    import google.colab\n",
        "    on_colab = True\n",
        "\n",
        "    !gdown --id 11xL65BOrEc93TFYhCp7VmrEh2MWBNgwf -O depth.zip\n",
        "    !unzip depth.zip -d ./depth\n",
        "\n",
        "    !gdown --id 1l5xwvj3YZgKIDWSoE8Geom_FT9rSbKpn -O depth_edge.zip\n",
        "    !unzip depth_edge.zip -d ./depth_edges\n",
        "\n",
        "    from google.colab import  drive\n",
        "    drive.mount('/content/drive')\n",
        "\n",
        "except ImportError:\n",
        "    on_colab = False"
      ]
    },
    {
      "cell_type": "code",
      "execution_count": null,
      "metadata": {
        "id": "4cp9s-RBS4Zx"
      },
      "outputs": [],
      "source": [
        "from google.colab import  drive\n",
        "drive.mount('/content/drive')"
      ]
    },
    {
      "cell_type": "code",
      "execution_count": 9,
      "metadata": {
        "id": "7kx7g6i0Rr1r"
      },
      "outputs": [],
      "source": [
        "!rm -r depth_pattern_analysis/"
      ]
    },
    {
      "cell_type": "code",
      "execution_count": null,
      "metadata": {
        "colab": {
          "base_uri": "https://localhost:8080/"
        },
        "id": "xQc1oLNoYAvL",
        "outputId": "695af159-a99f-486b-ba35-50029da3aa40"
      },
      "outputs": [],
      "source": [
        "if on_colab:\n",
        "    !git clone https://github.com/hamidrezafahimi/depth_pattern_analysis.git"
      ]
    },
    {
      "cell_type": "code",
      "execution_count": 1,
      "metadata": {
        "id": "HNiG95UHSHC1"
      },
      "outputs": [],
      "source": [
        "on_colab = False"
      ]
    },
    {
      "cell_type": "code",
      "execution_count": null,
      "metadata": {
        "colab": {
          "base_uri": "https://localhost:8080/"
        },
        "id": "d21heDFFUSw3",
        "outputId": "01870759-3679-40cc-9347-afd766abf9d2"
      },
      "outputs": [],
      "source": [
        "!pip install opencv-python"
      ]
    },
    {
      "cell_type": "code",
      "execution_count": 7,
      "metadata": {
        "id": "DCUVVgq2hIz1"
      },
      "outputs": [],
      "source": [
        "import os\n",
        "import sys\n",
        "\n",
        "# Directories for depth images and template masks.\n",
        "if on_colab:\n",
        "    sys.path.append('/content/depth_pattern_analysis/lib')\n",
        "    depth_dir = \"/content/depth\"\n",
        "    tmask_dir = \"/content/depth_edges\"\n",
        "    output_dir = \"/content/drive/MyDrive/outs5\"\n",
        "else:\n",
        "    sys.path.append(\"../../lib\")\n",
        "    depth_dir = \"../../data/depth\"\n",
        "    tmask_dir = \"../../data/depth_edge\"\n",
        "    output_dir = \"../../data/outs\"\n",
        "\n",
        "# Get sorted list of filenames.\n",
        "depth_files = sorted([f for f in os.listdir(depth_dir) if os.path.isfile(os.path.join(depth_dir, f))])\n",
        "tmask_files = sorted([f for f in os.listdir(tmask_dir) if os.path.isfile(os.path.join(tmask_dir, f))])\n",
        "\n",
        "# Check that both directories have exactly the same filenames.\n",
        "if set(depth_files) != set(tmask_files):\n",
        "    raise ValueError(\"Depth images and template masks must have matching filenames.\")\n",
        "\n",
        "if not os.path.exists(output_dir):\n",
        "    os.makedirs(output_dir)\n",
        "\n",
        "from searchBasedDepthDiffuser import SearchBasedDepthDiffuser\n",
        "# Create a ThresholdSearcher object with desired parameters and logging flags.\n",
        "searcher = SearchBasedDepthDiffuser(outdir=output_dir)"
      ]
    },
    {
      "cell_type": "code",
      "execution_count": null,
      "metadata": {
        "colab": {
          "base_uri": "https://localhost:8080/"
        },
        "id": "hZ6sRFE8SC7n",
        "outputId": "c9934a6d-4462-496d-b032-c6b2a41d6c92"
      },
      "outputs": [],
      "source": [
        "import cv2\n",
        "import time\n",
        "# Process each matching pair.\n",
        "for fname in depth_files:\n",
        "    depth_path = os.path.join(depth_dir, fname)\n",
        "    tmask_path = os.path.join(tmask_dir, fname)\n",
        "\n",
        "    depth_image = cv2.imread(depth_path, cv2.IMREAD_GRAYSCALE)\n",
        "    if depth_image is None:\n",
        "        raise IOError(f\"Could not load depth image: {depth_path}\")\n",
        "    template_mask = cv2.imread(tmask_path, cv2.IMREAD_GRAYSCALE)\n",
        "    if template_mask is None:\n",
        "        raise IOError(f\"Could not load template mask: {tmask_path}\")\n",
        "    if depth_image.shape != template_mask.shape:\n",
        "        raise ValueError(f\"Image shape mismatch for {fname}\")\n",
        "\n",
        "    t0 = time.time()\n",
        "    searcher.diffuse(template_mask, depth_image, fname[:-4])\n",
        "    print(\"time: \", time.time() - t0)\n",
        "    print(\"-------------\")"
      ]
    }
  ],
  "metadata": {
    "accelerator": "TPU",
    "colab": {
      "gpuType": "V28",
      "provenance": []
    },
    "kernelspec": {
      "display_name": "Python 3",
      "name": "python3"
    },
    "language_info": {
      "codemirror_mode": {
        "name": "ipython",
        "version": 3
      },
      "file_extension": ".py",
      "mimetype": "text/x-python",
      "name": "python",
      "nbconvert_exporter": "python",
      "pygments_lexer": "ipython3",
      "version": "3.7.13"
    }
  },
  "nbformat": 4,
  "nbformat_minor": 0
}
